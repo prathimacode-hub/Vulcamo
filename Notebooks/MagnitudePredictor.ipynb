{
  "nbformat": 4,
  "nbformat_minor": 0,
  "metadata": {
    "colab": {
      "name": "FireSize.ipynb",
      "provenance": []
    },
    "kernelspec": {
      "name": "python3",
      "display_name": "Python 3"
    },
    "language_info": {
      "name": "python"
    }
  },
  "cells": [
    {
      "cell_type": "markdown",
      "metadata": {
        "id": "vf7kdj9drjYM"
      },
      "source": [
        "#1] Imports"
      ]
    },
    {
      "cell_type": "code",
      "metadata": {
        "id": "tvryeR3ZHb2g"
      },
      "source": [
        "#Imports\n",
        "import pandas as pd\n",
        "import numpy as np\n",
        "import matplotlib.pyplot as plt"
      ],
      "execution_count": 53,
      "outputs": []
    },
    {
      "cell_type": "markdown",
      "metadata": {
        "id": "vqGS19gTrfXK"
      },
      "source": [
        "# 2] Pre-Processing"
      ]
    },
    {
      "cell_type": "code",
      "metadata": {
        "id": "wPXKY14NqBj4"
      },
      "source": [
        "# Reading in relevant data\n",
        "data = pd.read_csv(\"WildfireData.csv\", na_values=\"NaN\")\n",
        "data = data[['fire_size', 'latitude', 'longitude', 'discovery_month', 'Vegetation', 'Temp_pre_7', 'Hum_pre_7', 'Prec_pre_7', 'Wind_pre_7']]"
      ],
      "execution_count": 59,
      "outputs": []
    },
    {
      "cell_type": "code",
      "metadata": {
        "id": "uL6BzlOQt0Oi"
      },
      "source": [
        "# Drop NA\n",
        "data = data.dropna()"
      ],
      "execution_count": 60,
      "outputs": []
    },
    {
      "cell_type": "code",
      "metadata": {
        "id": "7PdgrWZ7t1Ue"
      },
      "source": [
        "# One Hot Encodings\n",
        "non_dummy_cols = ['fire_size', 'latitude','longitude', 'Temp_pre_7', 'Hum_pre_7', 'Prec_pre_7', 'Wind_pre_7'] \n",
        "dummy_cols = list(set(data.columns) - set(non_dummy_cols))\n",
        "data = pd.get_dummies(data, columns=dummy_cols)"
      ],
      "execution_count": 56,
      "outputs": []
    },
    {
      "cell_type": "markdown",
      "metadata": {
        "id": "YRkxRzSbtgMF"
      },
      "source": [
        "# 3] Create Individual Models "
      ]
    },
    {
      "cell_type": "code",
      "metadata": {
        "id": "G268FYw0uSfZ"
      },
      "source": [
        "#Split train/test\n",
        "from sklearn.model_selection import train_test_split\n",
        "X = data.drop('fire_size', axis=1) \n",
        "y = data.fire_size  \n",
        "X_train, X_test, y_train, y_test = train_test_split(X, y, test_size=0.3)"
      ],
      "execution_count": 48,
      "outputs": []
    },
    {
      "cell_type": "code",
      "metadata": {
        "id": "rlSQtgn0qrVF"
      },
      "source": [
        "#Imports for various models\n",
        "from sklearn.linear_model import ElasticNet\n",
        "from sklearn.svm import SVR\n",
        "from xgboost import XGBRegressor\n",
        "\n",
        "seed = 43"
      ],
      "execution_count": 49,
      "outputs": []
    },
    {
      "cell_type": "code",
      "metadata": {
        "colab": {
          "base_uri": "https://localhost:8080/"
        },
        "id": "QmF_PoGCt5YR",
        "outputId": "043049a1-4a67-402c-dae2-65157c91b3ea"
      },
      "source": [
        "#Initialize Models\n",
        "elnt = ElasticNet(random_state = seed)\n",
        "svm = SVR()\n",
        "xgb = XGBRegressor(random_state = seed, n_jobs = -1)\n",
        "\n",
        "elnt.fit(X_train, y_train)\n",
        "svm.fit(X_train, y_train)\n",
        "xgb.fit(X_train, y_train)"
      ],
      "execution_count": 50,
      "outputs": [
        {
          "output_type": "stream",
          "text": [
            "[22:22:56] WARNING: /workspace/src/objective/regression_obj.cu:152: reg:linear is now deprecated in favor of reg:squarederror.\n"
          ],
          "name": "stdout"
        },
        {
          "output_type": "execute_result",
          "data": {
            "text/plain": [
              "XGBRegressor(base_score=0.5, booster='gbtree', colsample_bylevel=1,\n",
              "             colsample_bynode=1, colsample_bytree=1, gamma=0,\n",
              "             importance_type='gain', learning_rate=0.1, max_delta_step=0,\n",
              "             max_depth=3, min_child_weight=1, missing=None, n_estimators=100,\n",
              "             n_jobs=-1, nthread=None, objective='reg:linear', random_state=43,\n",
              "             reg_alpha=0, reg_lambda=1, scale_pos_weight=1, seed=None,\n",
              "             silent=None, subsample=1, verbosity=1)"
            ]
          },
          "metadata": {
            "tags": []
          },
          "execution_count": 50
        }
      ]
    },
    {
      "cell_type": "code",
      "metadata": {
        "id": "QpbskEa9uFUH"
      },
      "source": [
        "#Hyperparameter grid search\n",
        "from sklearn.model_selection import GridSearchCV\n",
        "def grid_search_cv(model, params):\n",
        "    global best_params, best_score\n",
        "    grid_search = GridSearchCV(estimator = model, param_grid = params, cv = 10, verbose = 1,\n",
        "                            scoring = 'neg_mean_squared_error', n_jobs = -1)\n",
        "    grid_search.fit(X_train, y_train)\n",
        "    best_params = grid_search.best_params_ \n",
        "    best_score = np.sqrt(-1*(np.round(grid_search.best_score_, 5)))\n",
        "    return best_params, best_score"
      ],
      "execution_count": null,
      "outputs": []
    },
    {
      "cell_type": "code",
      "metadata": {
        "colab": {
          "base_uri": "https://localhost:8080/"
        },
        "id": "dp2JZrq9vNY2",
        "outputId": "a4a99bdb-372b-4b8c-f4fb-258de583e4a1"
      },
      "source": [
        "#Optimize Elastic Net\n",
        "elastic_params = {'alpha': [0.0005, 0.001, 0.002, 0.005], \n",
        "                 'l1_ratio': [0.60, 0.65, 0.70, 0.80],\n",
        "                 'random_state':[seed]}\n",
        "grid_search_cv(elnt, elastic_params)\n",
        "elastic_best_params, elastic_best_score = best_params, best_score\n",
        "print('Elastic Net best params:{} & best_score:{:0.5f}' .format(elastic_best_params, elastic_best_score))"
      ],
      "execution_count": null,
      "outputs": [
        {
          "output_type": "stream",
          "text": [
            "Fitting 10 folds for each of 16 candidates, totalling 160 fits\n"
          ],
          "name": "stdout"
        },
        {
          "output_type": "stream",
          "text": [
            "[Parallel(n_jobs=-1)]: Using backend LokyBackend with 2 concurrent workers.\n",
            "[Parallel(n_jobs=-1)]: Done  46 tasks      | elapsed:   33.8s\n",
            "[Parallel(n_jobs=-1)]: Done 160 out of 160 | elapsed:  1.7min finished\n"
          ],
          "name": "stderr"
        },
        {
          "output_type": "stream",
          "text": [
            "Elastic Net best params:{'alpha': 0.005, 'l1_ratio': 0.6, 'random_state': 43} & best_score:13879.59241\n"
          ],
          "name": "stdout"
        }
      ]
    },
    {
      "cell_type": "code",
      "metadata": {
        "id": "goKOQlbfvrA3"
      },
      "source": [
        "#Optimize Support Vector Regressor\n",
        "svm_params = {\n",
        "    'kernel': ['linear', 'poly', 'rbf', 'sigmoid'], \n",
        "    'C': [4, 5], \n",
        "    'gamma':[0.0001, 0.001]}\n",
        "\n",
        "grid_search_cv(svm, svm_params)\n",
        "svm_best_params, svm_best_score = best_params, best_score\n",
        "print('SVM best params:{} & best_score:{:0.5f}' .format(svm_best_params, svm_best_score))"
      ],
      "execution_count": null,
      "outputs": []
    },
    {
      "cell_type": "code",
      "metadata": {
        "id": "ffT-tQNVvqaT"
      },
      "source": [
        "#Optimize XGB\n",
        "xgb_opt = XGBRegressor(colsample_bytree = 0.4603, gamma = 0.0468, \n",
        "                             learning_rate = 0.04, max_depth = 3, \n",
        "                             min_child_weight = 1.7817, n_estimators = 2500,\n",
        "                             reg_alpha = 0.4640, reg_lambda = 0.8571,\n",
        "                             subsample = 0.5213, silent = 1,\n",
        "                             nthread = -1, random_state = 7)"
      ],
      "execution_count": null,
      "outputs": []
    },
    {
      "cell_type": "code",
      "metadata": {
        "colab": {
          "base_uri": "https://localhost:8080/"
        },
        "id": "-3EUs1OMw5j1",
        "outputId": "77121234-9f34-4a00-e303-afd77d3121b9"
      },
      "source": [
        "#Retrain with optimized hyperparameters\n",
        "elastic_net_opt = ElasticNet(**elastic_best_params)\n",
        "# svm_opt = SVR(**svm_best_params)\n",
        "xgb_opt = xgb_opt\n",
        "\n",
        "elastic_net_opt.fit(X_train, y_train)\n",
        "# svm_opt.fit(X_train, y_train)\n",
        "xgb_opt.fit(X_train, y_train)"
      ],
      "execution_count": null,
      "outputs": [
        {
          "output_type": "execute_result",
          "data": {
            "text/plain": [
              "XGBRegressor(base_score=0.5, booster='gbtree', colsample_bylevel=1,\n",
              "             colsample_bynode=1, colsample_bytree=0.4603, gamma=0.0468,\n",
              "             importance_type='gain', learning_rate=0.04, max_delta_step=0,\n",
              "             max_depth=3, min_child_weight=1.7817, missing=None,\n",
              "             n_estimators=2500, n_jobs=1, nthread=-1, objective='reg:linear',\n",
              "             random_state=7, reg_alpha=0.464, reg_lambda=0.8571,\n",
              "             scale_pos_weight=1, seed=None, silent=1, subsample=0.5213,\n",
              "             verbosity=1)"
            ]
          },
          "metadata": {
            "tags": []
          },
          "execution_count": 31
        }
      ]
    },
    {
      "cell_type": "code",
      "metadata": {
        "id": "8yIm_t4exDdf"
      },
      "source": [
        "#Define learning curve function\n",
        "from sklearn.model_selection import learning_curve\n",
        "def plot_learning_curve(model):\n",
        "    train_sizes, train_scores, test_scores = learning_curve(model, X_train, y_train, \n",
        "                                            train_sizes = np.linspace(0.01, 1.0, 20), cv = 10, scoring = 'neg_mean_squared_error', \n",
        "                                            n_jobs = -1, random_state = seed)\n",
        "    train_mean = np.mean(train_scores, axis = 1)\n",
        "    train_std = np.std(train_scores, axis = 1)\n",
        "\n",
        "    test_mean = np.mean(test_scores, axis = 1)\n",
        "    test_std = np.std(test_scores, axis = 1)  \n",
        "    \n",
        "    plt.plot(train_sizes, train_mean, 'o-', color = 'red',  label = 'Training score')\n",
        "    plt.plot(train_sizes, test_mean, 'o-', color = 'green', label = 'Cross-validation score')\n",
        "    \n",
        "    plt.fill_between(train_sizes, train_mean - train_std, train_mean + train_std, alpha = 0.1, color = 'r') # Alpha controls band transparency.\n",
        "    plt.fill_between(train_sizes, test_mean - test_std, test_mean + test_std, alpha = 0.1, color = 'g')\n",
        "    \n",
        "    font_size = 12\n",
        "    plt.xlabel('Training Set Size', fontsize = font_size)\n",
        "    plt.ylabel('Accuracy Score', fontsize = font_size)\n",
        "    plt.xticks(fontsize = font_size)\n",
        "    plt.yticks(fontsize = font_size)\n",
        "    plt.legend(loc = 'best')\n",
        "    plt.grid()\n"
      ],
      "execution_count": null,
      "outputs": []
    },
    {
      "cell_type": "markdown",
      "metadata": {
        "id": "V-Bb-25vy1o6"
      },
      "source": [
        "#4] Combine into Ensemble Model"
      ]
    },
    {
      "cell_type": "code",
      "metadata": {
        "colab": {
          "base_uri": "https://localhost:8080/",
          "height": 227
        },
        "id": "4TEJMq21y3YI",
        "outputId": "ab5ec703-abda-425c-ea95-33c0007e1350"
      },
      "source": [
        "#Dataframe containing all 3 ensemble models\n",
        "base_model_prediction = pd.DataFrame({\n",
        "       'Elastic Net':elnt.predict(X_test), \n",
        "       'SVM':svm.predict(X_test),\n",
        "       'XGB':xgb.predict(X_test), \n",
        "  })\n",
        "\n",
        "from IPython.display import Markdown\n",
        "def bold(string):\n",
        "    display(Markdown(string))\n",
        "bold('**All the Base Model Predictions:**')\n",
        "display(base_model_prediction.head())"
      ],
      "execution_count": null,
      "outputs": [
        {
          "output_type": "display_data",
          "data": {
            "text/markdown": "**All the Base Model Predictions:**",
            "text/plain": [
              "<IPython.core.display.Markdown object>"
            ]
          },
          "metadata": {
            "tags": []
          }
        },
        {
          "output_type": "display_data",
          "data": {
            "text/html": [
              "<div>\n",
              "<style scoped>\n",
              "    .dataframe tbody tr th:only-of-type {\n",
              "        vertical-align: middle;\n",
              "    }\n",
              "\n",
              "    .dataframe tbody tr th {\n",
              "        vertical-align: top;\n",
              "    }\n",
              "\n",
              "    .dataframe thead th {\n",
              "        text-align: right;\n",
              "    }\n",
              "</style>\n",
              "<table border=\"1\" class=\"dataframe\">\n",
              "  <thead>\n",
              "    <tr style=\"text-align: right;\">\n",
              "      <th></th>\n",
              "      <th>Elastic Net</th>\n",
              "      <th>SVM</th>\n",
              "      <th>XGB</th>\n",
              "    </tr>\n",
              "  </thead>\n",
              "  <tbody>\n",
              "    <tr>\n",
              "      <th>0</th>\n",
              "      <td>5376.199466</td>\n",
              "      <td>10.471358</td>\n",
              "      <td>6053.119141</td>\n",
              "    </tr>\n",
              "    <tr>\n",
              "      <th>1</th>\n",
              "      <td>1548.151290</td>\n",
              "      <td>3.253075</td>\n",
              "      <td>145.265396</td>\n",
              "    </tr>\n",
              "    <tr>\n",
              "      <th>2</th>\n",
              "      <td>1125.510421</td>\n",
              "      <td>3.248031</td>\n",
              "      <td>232.562973</td>\n",
              "    </tr>\n",
              "    <tr>\n",
              "      <th>3</th>\n",
              "      <td>6157.072399</td>\n",
              "      <td>9.606693</td>\n",
              "      <td>-13.402963</td>\n",
              "    </tr>\n",
              "    <tr>\n",
              "      <th>4</th>\n",
              "      <td>4800.066478</td>\n",
              "      <td>13.911445</td>\n",
              "      <td>5452.743164</td>\n",
              "    </tr>\n",
              "  </tbody>\n",
              "</table>\n",
              "</div>"
            ],
            "text/plain": [
              "   Elastic Net        SVM          XGB\n",
              "0  5376.199466  10.471358  6053.119141\n",
              "1  1548.151290   3.253075   145.265396\n",
              "2  1125.510421   3.248031   232.562973\n",
              "3  6157.072399   9.606693   -13.402963\n",
              "4  4800.066478  13.911445  5452.743164"
            ]
          },
          "metadata": {
            "tags": []
          }
        }
      ]
    },
    {
      "cell_type": "code",
      "metadata": {
        "colab": {
          "base_uri": "https://localhost:8080/"
        },
        "id": "Enp0s7cszMzH",
        "outputId": "8212bc19-146d-4885-a74c-0ba43869f672"
      },
      "source": [
        "#Averaging Models\n",
        "y_elastic = elnt.predict(X_test)\n",
        "y_svm = svm.predict(X_test)\n",
        "y_xgb = xgb.predict(X_test)\n",
        "\n",
        "avg_ensemble = (y_svm + y_xgb + y_elastic)/3\n",
        "final = pd.DataFrame({'Actual': y_test, 'Predicted': avg_ensemble})\n",
        "print(final)"
      ],
      "execution_count": 51,
      "outputs": [
        {
          "output_type": "stream",
          "text": [
            "        Actual     Predicted\n",
            "54607  61416.0   3256.808049\n",
            "39066      2.5    155.583506\n",
            "52438  29229.5  15241.124802\n",
            "269      168.3   2641.811681\n",
            "37095      2.5    833.535488\n",
            "...        ...           ...\n",
            "15793   1201.8    624.305088\n",
            "39713      2.0   -571.971091\n",
            "42309      2.0   1936.209311\n",
            "1990       1.0   -722.056072\n",
            "3059       2.0    846.890622\n",
            "\n",
            "[16611 rows x 2 columns]\n"
          ],
          "name": "stdout"
        }
      ]
    },
    {
      "cell_type": "code",
      "metadata": {
        "id": "K2ikkm1U9hcc"
      },
      "source": [
        "# from joblib import dump, load\n",
        "# dump(elnt, 'elnt.joblib')\n",
        "# dump(svm, 'svm.joblib')\n",
        "# dump(xgb, 'xgb.joblib')\n",
        "xgb.save_model('xgb.json')"
      ],
      "execution_count": 52,
      "outputs": []
    }
  ]
}