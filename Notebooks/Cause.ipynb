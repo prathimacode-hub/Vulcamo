{
 "metadata": {
  "language_info": {
   "codemirror_mode": {
    "name": "ipython",
    "version": 3
   },
   "file_extension": ".py",
   "mimetype": "text/x-python",
   "name": "python",
   "nbconvert_exporter": "python",
   "pygments_lexer": "ipython3",
   "version": "3.7.9"
  },
  "orig_nbformat": 4,
  "kernelspec": {
   "name": "python3",
   "display_name": "Python 3.7.9 64-bit"
  },
  "interpreter": {
   "hash": "7f8c79caef6f500d10f1d53b5233fd35aa3fbbd3a39d10048919692e9c705d27"
  }
 },
 "nbformat": 4,
 "nbformat_minor": 2,
 "cells": [
  {
   "source": [
    "**Imports**"
   ],
   "cell_type": "markdown",
   "metadata": {}
  },
  {
   "cell_type": "code",
   "execution_count": null,
   "metadata": {},
   "outputs": [],
   "source": [
    "import pandas as pd\n",
    "import numpy as np\n",
    "from keras.models import Sequential\n",
    "from keras.layers import Dense"
   ]
  },
  {
   "source": [
    "**Pre-Processing**"
   ],
   "cell_type": "markdown",
   "metadata": {}
  },
  {
   "cell_type": "code",
   "execution_count": null,
   "metadata": {},
   "outputs": [],
   "source": [
    "data = pd.read_csv('../data/WildfireData.csv')\n",
    "data.head()"
   ]
  },
  {
   "cell_type": "code",
   "execution_count": null,
   "metadata": {},
   "outputs": [],
   "source": [
    "data = data[['fire_size', 'remoteness', 'putout_time', 'stat_cause_descr']]\n",
    "data.head()"
   ]
  },
  {
   "cell_type": "code",
   "execution_count": null,
   "metadata": {},
   "outputs": [],
   "source": [
    "data = data.dropna()\n",
    "data['putout_time'] = data['putout_time'].str.split(' ').str[0]\n",
    "data.head()"
   ]
  },
  {
   "cell_type": "code",
   "execution_count": null,
   "metadata": {},
   "outputs": [],
   "source": [
    "data.stat_cause_descr.unique()"
   ]
  },
  {
   "cell_type": "code",
   "execution_count": null,
   "metadata": {},
   "outputs": [],
   "source": [
    "data['stat_cause_descr'] = data['stat_cause_descr'].map({\n",
    "    'Debris Burning': 0,\n",
    "    'Arson': 1,\n",
    "    'Lightning': 2,\n",
    "    'Equipment Use': 3,\n",
    "    'Campfire': 4,\n",
    "    'Structure': 5,\n",
    "    'Children': 5,\n",
    "    'Smoking': 5,\n",
    "    'Powerline': 5,\n",
    "    'Railroad': 5,\n",
    "    'Fireworks': 5,\n",
    "    'Missing/Undefined': 5,\n",
    "    'Miscellaneous': 5\n",
    "})\n",
    "data.stat_cause_descr.unique()\n",
    "data.head()"
   ]
  },
  {
   "cell_type": "code",
   "execution_count": null,
   "metadata": {},
   "outputs": [],
   "source": [
    "from sklearn.model_selection import train_test_split\n",
    "X = data.drop('stat_cause_descr', axis=1).astype('float')\n",
    "y = data.stat_cause_descr.astype('float')\n",
    "print(X.head())\n",
    "print(y.head())\n",
    "X_train, X_test, y_train, y_test = train_test_split(X, y, test_size=0.1)"
   ]
  },
  {
   "cell_type": "code",
   "execution_count": null,
   "metadata": {},
   "outputs": [],
   "source": [
    "from tensorflow.keras.utils import to_categorical\n",
    "y_train = to_categorical(y_train)\n",
    "y_test = to_categorical(y_test)"
   ]
  },
  {
   "cell_type": "code",
   "execution_count": null,
   "metadata": {},
   "outputs": [],
   "source": [
    " y_test[0]"
   ]
  },
  {
   "source": [
    "**NN Model**"
   ],
   "cell_type": "markdown",
   "metadata": {}
  },
  {
   "cell_type": "code",
   "execution_count": null,
   "metadata": {},
   "outputs": [],
   "source": [
    "model = Sequential()\n",
    "model.add(Dense(32, input_dim=(3), activation='relu'))\n",
    "model.add(Dense(16, activation='relu'))\n",
    "model.add(Dense(8, activation='relu'))\n",
    "model.add(Dense(6, activation='softmax'))"
   ]
  },
  {
   "cell_type": "code",
   "execution_count": null,
   "metadata": {},
   "outputs": [],
   "source": [
    "model.compile(loss='categorical_crossentropy', optimizer='adam', metrics=['accuracy'])"
   ]
  },
  {
   "cell_type": "code",
   "execution_count": null,
   "metadata": {},
   "outputs": [],
   "source": [
    "model.fit(X_train, y_train, validation_data=(X_test, y_test), epochs=100, batch_size=64, verbose=1)"
   ]
  },
  {
   "cell_type": "code",
   "execution_count": null,
   "metadata": {},
   "outputs": [],
   "source": [
    "# test model\n",
    "test_data = {\n",
    "    'fire_size': [37.0],\n",
    "    'remoteness': [0.191923],\n",
    "    'putout_time': [0]\t\n",
    "}\n",
    "test_data = pd.DataFrame(test_data)\n",
    "test_data"
   ]
  },
  {
   "cell_type": "code",
   "execution_count": null,
   "metadata": {},
   "outputs": [],
   "source": [
    "result = model.predict(test_data)\n",
    "result"
   ]
  },
  {
   "cell_type": "code",
   "execution_count": null,
   "metadata": {},
   "outputs": [],
   "source": [
    "# find class\n",
    "final = 0\n",
    "for i in range(6):\n",
    "    if (result[0][i] > final):\n",
    "        final = result[0][i]\n",
    "    # print(final)\n",
    "final = np.where(result[0] == final)\n",
    "print(final[0][0])\n",
    "    "
   ]
  },
  {
   "cell_type": "code",
   "execution_count": null,
   "metadata": {},
   "outputs": [],
   "source": [
    "# save model\n",
    "model.save(\"../Weights/cause.h5\")"
   ]
  },
  {
   "cell_type": "code",
   "execution_count": null,
   "metadata": {},
   "outputs": [],
   "source": [
    "# add cause to predicted fires dataset\n",
    "predicted_data = pd.read_csv('../data/PredictedData.csv')"
   ]
  },
  {
   "cell_type": "code",
   "execution_count": null,
   "metadata": {},
   "outputs": [],
   "source": [
    "predicted_data = predicted_data.dropna()\n",
    "predicted_data['putout_time'] = predicted_data['putout_time'].str.split(' ').str[0]\n",
    "test_data = predicted_data[['fire_size', 'remoteness', 'putout_time']].astype('float')\n",
    "results = model.predict(test_data)"
   ]
  },
  {
   "source": [
    "**XGBoost Classifier**"
   ],
   "cell_type": "markdown",
   "metadata": {}
  },
  {
   "cell_type": "code",
   "execution_count": null,
   "metadata": {},
   "outputs": [],
   "source": [
    "from xgboost import XGBClassifier\n",
    "from sklearn.metrics import accuracy_score"
   ]
  },
  {
   "cell_type": "code",
   "execution_count": null,
   "metadata": {},
   "outputs": [],
   "source": [
    "xgb_model = XGBClassifier(\n",
    "        silent=False, \n",
    "        scale_pos_weight=1,\n",
    "        learning_rate=0.01,  \n",
    "        colsample_bytree = 1,\n",
    "        subsample = 0.8,\n",
    "        objective='multi:softprob', \n",
    "        n_estimators=1000, \n",
    "        reg_alpha = 0.3,\n",
    "        max_depth=5, \n",
    "        gamma=1)\n",
    "xgb_model.fit(X_train, y_train)"
   ]
  },
  {
   "cell_type": "code",
   "execution_count": null,
   "metadata": {},
   "outputs": [],
   "source": [
    "y_pred = xgb_model.predict(X_test)\n",
    "predictions = [round(value) for value in y_pred]"
   ]
  },
  {
   "cell_type": "code",
   "execution_count": null,
   "metadata": {},
   "outputs": [],
   "source": [
    "accuracy = round(accuracy_score(y_test, predictions), 2)\n",
    "accuracy"
   ]
  },
  {
   "cell_type": "code",
   "execution_count": null,
   "metadata": {},
   "outputs": [],
   "source": [
    "result = xgb_model.predict(test_data)\n",
    "result[0]"
   ]
  },
  {
   "cell_type": "code",
   "execution_count": null,
   "metadata": {},
   "outputs": [],
   "source": [
    "print(X_test.tail())\n",
    "print(y_test.tail())"
   ]
  },
  {
   "cell_type": "code",
   "execution_count": null,
   "metadata": {},
   "outputs": [],
   "source": [
    "# test model\n",
    "test_data1 = {\n",
    "    'fire_size': [5.0],\n",
    "    'remoteness': [0.250806],\n",
    "    'putout_time': [2.0]\t\n",
    "}\n",
    "test_data1 = pd.DataFrame(test_data1)\n",
    "test_data1"
   ]
  },
  {
   "cell_type": "code",
   "execution_count": null,
   "metadata": {},
   "outputs": [],
   "source": [
    "result1 = xgb_model.predict(test_data1)\n",
    "result1[0].astype('int')"
   ]
  }
 ]
}